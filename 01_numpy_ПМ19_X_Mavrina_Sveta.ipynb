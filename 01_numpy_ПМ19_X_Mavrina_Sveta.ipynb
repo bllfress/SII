{
  "cells": [
    {
      "cell_type": "markdown",
      "metadata": {
        "id": "p-1cOwlf_hpF"
      },
      "source": [
        "Материалы:\n",
        "* Макрушин С.В. \"Лекция 1: Библиотека Numpy\"\n",
        "* https://numpy.org/doc/stable/user/index.html\n",
        "* https://numpy.org/doc/stable/reference/index.html"
      ]
    },
    {
      "cell_type": "markdown",
      "metadata": {
        "id": "CGY9UJA__hpE"
      },
      "source": [
        "# Numpy"
      ]
    },
    {
      "cell_type": "markdown",
      "metadata": {
        "id": "XONi80Iv_hpH"
      },
      "source": [
        "## Задачи для совместного разбора"
      ]
    },
    {
      "cell_type": "markdown",
      "metadata": {
        "id": "e3CPq3sS_hpH"
      },
      "source": [
        "1. Сгенерировать двухмерный массив `arr` размерности (4, 7), состоящий из случайных действительных чисел, равномерно распределенных в диапазоне от 0 до 20. Нормализовать значения массива с помощью преобразования вида  $𝑎𝑥+𝑏$  так, что после нормализации максимальный элемент масcива будет равен 1.0, минимальный 0.0"
      ]
    },
    {
      "cell_type": "code",
      "source": [
        "import numpy as np"
      ],
      "metadata": {
        "id": "p4iq8UGhsbD9"
      },
      "execution_count": null,
      "outputs": []
    },
    {
      "cell_type": "code",
      "execution_count": null,
      "metadata": {
        "id": "cBs3-RjI_hpH",
        "colab": {
          "base_uri": "https://localhost:8080/"
        },
        "outputId": "300c440f-27bc-4963-eaf1-cc7880c683cb"
      },
      "outputs": [
        {
          "output_type": "execute_result",
          "data": {
            "text/plain": [
              "array([[18.83727412,  3.50632178,  6.10900569, 13.49370009, 18.35324984,\n",
              "        15.66384705,  1.63883326],\n",
              "       [ 8.61990977,  1.31361202, 16.4101097 ,  2.74465634,  1.67707711,\n",
              "        19.99423918, 11.33239888],\n",
              "       [ 8.43520654,  5.74593128, 14.40728958,  3.14634001, 19.71629472,\n",
              "        17.39697664, 10.50714222],\n",
              "       [ 6.99006857, 18.28517478,  3.33723968, 10.5231591 , 15.26350006,\n",
              "        19.82816341,  0.90604799]])"
            ]
          },
          "metadata": {},
          "execution_count": 3
        }
      ],
      "source": [
        "a1=np.random.uniform(0,20, size=(4,7))\n",
        "a1"
      ]
    },
    {
      "cell_type": "code",
      "source": [
        "a2 = (a1-a1.min()) / a1.max()-a1.min()*(1-0)+0\n",
        "a2"
      ],
      "metadata": {
        "colab": {
          "base_uri": "https://localhost:8080/"
        },
        "id": "XawKP99UvMSC",
        "outputId": "df1aeb72-ece8-4cbd-f4af-bbeab15108e1"
      },
      "execution_count": null,
      "outputs": [
        {
          "output_type": "execute_result",
          "data": {
            "text/plain": [
              "array([[-0.00922837, -0.77599684, -0.64582515, -0.27648405, -0.03343655,\n",
              "        -0.16794544, -0.86939817],\n",
              "       [-0.52024378, -0.88566392, -0.13062155, -0.81409109, -0.86748543,\n",
              "         0.04863655, -0.38458024],\n",
              "       [-0.5294816 , -0.6639841 , -0.23079141, -0.79400112,  0.03473533,\n",
              "        -0.08126399, -0.42585497],\n",
              "       [-0.60175932, -0.03684129, -0.78445339, -0.42505389, -0.18796855,\n",
              "         0.04033037, -0.90604799]])"
            ]
          },
          "metadata": {},
          "execution_count": 4
        }
      ]
    },
    {
      "cell_type": "code",
      "source": [
        "a2.min(),a2.max()"
      ],
      "metadata": {
        "colab": {
          "base_uri": "https://localhost:8080/"
        },
        "id": "kjxqFu1gv2F8",
        "outputId": "fb065862-0fc3-4380-c095-5e27459fc667"
      },
      "execution_count": null,
      "outputs": [
        {
          "output_type": "execute_result",
          "data": {
            "text/plain": [
              "(-0.9060479937045374, 0.04863655389304222)"
            ]
          },
          "metadata": {},
          "execution_count": 5
        }
      ]
    },
    {
      "cell_type": "markdown",
      "metadata": {
        "id": "4f-IQLyi_hpH"
      },
      "source": [
        "2. Создать матрицу 8 на 10 из случайных целых (используя модуль `numpy.random`) чисел из диапозона от 0 до 10 и найти в ней строку (ее индекс и вывести саму строку), в которой сумма значений минимальна."
      ]
    },
    {
      "cell_type": "code",
      "source": [
        "mat = np.random.randint(0,11, size=(8,10))\n",
        "mat"
      ],
      "metadata": {
        "id": "mvVpo6edXCqN",
        "colab": {
          "base_uri": "https://localhost:8080/"
        },
        "outputId": "cdf8bc9e-490e-487a-b810-4bfc411f80e0"
      },
      "execution_count": null,
      "outputs": [
        {
          "output_type": "execute_result",
          "data": {
            "text/plain": [
              "array([[10,  6,  8,  9,  4,  5, 10,  2,  4,  7],\n",
              "       [ 8,  8,  5,  5,  7,  0,  5,  8,  2,  7],\n",
              "       [ 6,  5,  3,  1,  5,  8,  2,  2,  7,  4],\n",
              "       [ 4,  8,  9,  8,  5,  5,  6, 10,  9, 10],\n",
              "       [ 7,  8,  0,  4,  5,  1,  5,  9,  0,  7],\n",
              "       [ 2,  2,  8,  3,  2,  3,  6,  8,  8,  9],\n",
              "       [ 0,  1,  4,  9,  0, 10,  9,  6,  5, 10],\n",
              "       [ 2,  8,  5,  1,  9,  0,  3,  4,  5,  9]])"
            ]
          },
          "metadata": {},
          "execution_count": 6
        }
      ]
    },
    {
      "cell_type": "code",
      "source": [
        "minsum=mat.sum(axis=1) #суммирование всех строчек\n",
        "minsum"
      ],
      "metadata": {
        "colab": {
          "base_uri": "https://localhost:8080/"
        },
        "id": "Va0UYT_Eweo3",
        "outputId": "6f345c1e-4c16-4165-8a42-35f08d702cc3"
      },
      "execution_count": null,
      "outputs": [
        {
          "output_type": "execute_result",
          "data": {
            "text/plain": [
              "array([65, 55, 43, 74, 46, 51, 54, 46])"
            ]
          },
          "metadata": {},
          "execution_count": 7
        }
      ]
    },
    {
      "cell_type": "code",
      "source": [
        "minsum.argmin() #возвращает индексы минимальных значений по оси (43)"
      ],
      "metadata": {
        "colab": {
          "base_uri": "https://localhost:8080/"
        },
        "id": "R3eytbMbxK3M",
        "outputId": "4cc2f172-faa3-46c7-f553-46edee88787a"
      },
      "execution_count": null,
      "outputs": [
        {
          "output_type": "execute_result",
          "data": {
            "text/plain": [
              "2"
            ]
          },
          "metadata": {},
          "execution_count": 8
        }
      ]
    },
    {
      "cell_type": "code",
      "source": [
        "mat[minsum.argmin()] #вывели строку с минимальной суммой"
      ],
      "metadata": {
        "colab": {
          "base_uri": "https://localhost:8080/"
        },
        "id": "8RkcHbczxWYU",
        "outputId": "45ac8179-a290-479c-b61d-c2f9e504399e"
      },
      "execution_count": null,
      "outputs": [
        {
          "output_type": "execute_result",
          "data": {
            "text/plain": [
              "array([6, 5, 3, 1, 5, 8, 2, 2, 7, 4])"
            ]
          },
          "metadata": {},
          "execution_count": 9
        }
      ]
    },
    {
      "cell_type": "markdown",
      "metadata": {
        "id": "l1k2BvyJ_hpI"
      },
      "source": [
        "3. Найти евклидово расстояние между двумя одномерными векторами одинаковой размерности."
      ]
    },
    {
      "cell_type": "code",
      "source": [
        "a3=np.random.randint(0,3, size=5)\n",
        "a3"
      ],
      "metadata": {
        "colab": {
          "base_uri": "https://localhost:8080/"
        },
        "id": "ymMOGP4ix42g",
        "outputId": "ebb47ce3-19bf-449a-edec-f5a335694b27"
      },
      "execution_count": null,
      "outputs": [
        {
          "output_type": "execute_result",
          "data": {
            "text/plain": [
              "array([2, 0, 1, 2, 0])"
            ]
          },
          "metadata": {},
          "execution_count": 10
        }
      ]
    },
    {
      "cell_type": "code",
      "source": [
        "a4=np.random.randint(1,5, size=5)\n",
        "a4"
      ],
      "metadata": {
        "colab": {
          "base_uri": "https://localhost:8080/"
        },
        "id": "Kpv5VBwIyMpB",
        "outputId": "cbf1bc2a-9b9e-47f8-8138-bbcf44911109"
      },
      "execution_count": null,
      "outputs": [
        {
          "output_type": "execute_result",
          "data": {
            "text/plain": [
              "array([1, 2, 4, 3, 3])"
            ]
          },
          "metadata": {},
          "execution_count": 11
        }
      ]
    },
    {
      "cell_type": "code",
      "source": [
        "np.sqrt(np.sum((a3-a4)**2))"
      ],
      "metadata": {
        "colab": {
          "base_uri": "https://localhost:8080/"
        },
        "id": "13jQsOyIyUVn",
        "outputId": "898539ec-f023-42e1-defa-d14f25ac2393"
      },
      "execution_count": null,
      "outputs": [
        {
          "output_type": "execute_result",
          "data": {
            "text/plain": [
              "4.898979485566356"
            ]
          },
          "metadata": {},
          "execution_count": 12
        }
      ]
    },
    {
      "cell_type": "code",
      "source": [
        "#можно использовать формулу из модуля линала\n",
        "np.linalg.norm(a3-a4)"
      ],
      "metadata": {
        "colab": {
          "base_uri": "https://localhost:8080/"
        },
        "id": "EGPq97pGyfvp",
        "outputId": "ebeecbbf-5585-4cbf-cf10-a050aed7e3af"
      },
      "execution_count": null,
      "outputs": [
        {
          "output_type": "execute_result",
          "data": {
            "text/plain": [
              "4.898979485566356"
            ]
          },
          "metadata": {},
          "execution_count": 13
        }
      ]
    },
    {
      "cell_type": "markdown",
      "metadata": {
        "id": "uAKshQeu_hpI"
      },
      "source": [
        "4. Решить матричное уравнение `A*X*B=-C` - найти матрицу `X`. Где `A = [[-1, 2, 4], [-3, 1, 2], [-3, 0, 1]]`, `B=[[3, -1], [2, 1]]`, `C=[[7, 21], [11, 8], [8, 4]]`."
      ]
    },
    {
      "cell_type": "code",
      "source": [
        "A=np.array([[-1, 2, 4], [-3, 1, 2], [-3, 0, 1]])\n",
        "B=np.array([[3, -1], [2, 1]])\n",
        "C=np.array([[7, 21], [11, 8], [8, 4]])"
      ],
      "metadata": {
        "id": "iPSDBNcOzA9s"
      },
      "execution_count": null,
      "outputs": []
    },
    {
      "cell_type": "code",
      "source": [
        "#X=A^-1*(-C)*B^-1\n",
        "X=np.dot(np.dot(np.linalg.inv(A),(-C)), np.linalg.inv(B))\n",
        "X"
      ],
      "metadata": {
        "colab": {
          "base_uri": "https://localhost:8080/"
        },
        "id": "oGRzlYEWzp3d",
        "outputId": "28c5ce6e-5115-4859-f981-71b1805c432a"
      },
      "execution_count": null,
      "outputs": [
        {
          "output_type": "execute_result",
          "data": {
            "text/plain": [
              "array([[ 1.00000000e+00,  5.32907052e-16],\n",
              "       [-2.00000000e+00,  1.00000000e+00],\n",
              "       [ 3.00000000e+00, -4.00000000e+00]])"
            ]
          },
          "metadata": {},
          "execution_count": 15
        }
      ]
    },
    {
      "cell_type": "markdown",
      "metadata": {
        "id": "-5Q_9lVS_hpI"
      },
      "source": [
        "## Лабораторная работа №1"
      ]
    },
    {
      "cell_type": "markdown",
      "metadata": {
        "id": "Up5YcVUK_hpI"
      },
      "source": [
        "Замечание: при решении данных задач не подразумевается использования циклов или генераторов Python, если в задании не сказано обратного. Решение должно опираться на использования функционала библиотеки `numpy`."
      ]
    },
    {
      "cell_type": "markdown",
      "metadata": {
        "id": "2Ed-fp7u_hpI"
      },
      "source": [
        "1. Файл `minutes_n_ingredients.csv` содержит информацию об идентификаторе рецепта, времени его выполнения в минутах и количестве необходимых ингредиентов. Считайте данные из этого файла в виде массива `numpy` типа `int32`, используя `np.loadtxt`. Выведите на экран первые 5 строк массива."
      ]
    },
    {
      "cell_type": "markdown",
      "source": [],
      "metadata": {
        "id": "zYLArBJ9oFpq"
      }
    },
    {
      "cell_type": "code",
      "source": [
        "data = np.loadtxt('minutes_n_ingredients.csv', dtype='int32', delimiter = ',', skiprows =1)\n",
        "data[:5] #вывод первых пяти строк"
      ],
      "metadata": {
        "colab": {
          "base_uri": "https://localhost:8080/"
        },
        "id": "KTENu0ReK3BL",
        "outputId": "0fe13cc2-4afe-45cc-ecfb-cce3b0481cf6"
      },
      "execution_count": null,
      "outputs": [
        {
          "output_type": "execute_result",
          "data": {
            "text/plain": [
              "array([[127244,     60,     16],\n",
              "       [ 23891,     25,      7],\n",
              "       [ 94746,     10,      6],\n",
              "       [ 67660,      5,      6],\n",
              "       [157911,     60,     14]], dtype=int32)"
            ]
          },
          "metadata": {},
          "execution_count": 16
        }
      ]
    },
    {
      "cell_type": "markdown",
      "metadata": {
        "id": "Gb_xgzjr_hpJ"
      },
      "source": [
        "2. Вычислите среднее значение, минимум, максимум и медиану по каждому из столбцов, кроме первого."
      ]
    },
    {
      "cell_type": "code",
      "source": [
        "(data[:,1:].mean(axis=0), #столбцы\n",
        " data[:,1:].min(axis=0),\n",
        " data[:,1:].max(axis=0),\n",
        " np.median(data[:,1:],axis=0))\n"
      ],
      "metadata": {
        "colab": {
          "base_uri": "https://localhost:8080/"
        },
        "id": "JstTyOyQ3BRA",
        "outputId": "92795d92-bcdc-4216-c31e-ffc9b5a1da2c"
      },
      "execution_count": null,
      "outputs": [
        {
          "output_type": "execute_result",
          "data": {
            "text/plain": [
              "(array([2.16010017e+04, 9.05528000e+00]),\n",
              " array([0, 1], dtype=int32),\n",
              " array([2147483647,         39], dtype=int32),\n",
              " array([40.,  9.]))"
            ]
          },
          "metadata": {},
          "execution_count": 17
        }
      ]
    },
    {
      "cell_type": "code",
      "source": [
        "data[:,1:]"
      ],
      "metadata": {
        "colab": {
          "base_uri": "https://localhost:8080/"
        },
        "id": "5PK9WfSkFnBp",
        "outputId": "0d2edc9f-ae6b-47d6-ab77-877b060fb95d"
      },
      "execution_count": null,
      "outputs": [
        {
          "output_type": "execute_result",
          "data": {
            "text/plain": [
              "array([[ 60,  16],\n",
              "       [ 25,   7],\n",
              "       [ 10,   6],\n",
              "       ...,\n",
              "       [ 65,  15],\n",
              "       [  5,   4],\n",
              "       [140,  14]], dtype=int32)"
            ]
          },
          "metadata": {},
          "execution_count": 18
        }
      ]
    },
    {
      "cell_type": "markdown",
      "source": [
        "3. Ограничьте сверху значения продолжительности выполнения рецепта значением квантиля  𝑞0.75 ."
      ],
      "metadata": {
        "id": "Hky4gCHFF5Y9"
      }
    },
    {
      "cell_type": "code",
      "source": [
        "q=np.quantile(data[:,1],q=0.75) #посчитали какой квантиль\n",
        "q"
      ],
      "metadata": {
        "colab": {
          "base_uri": "https://localhost:8080/"
        },
        "id": "8sfkuLlQ4XMF",
        "outputId": "103702b3-021f-4347-84f2-ad3ed2144ec0"
      },
      "execution_count": null,
      "outputs": [
        {
          "output_type": "execute_result",
          "data": {
            "text/plain": [
              "65.0"
            ]
          },
          "metadata": {},
          "execution_count": 19
        }
      ]
    },
    {
      "cell_type": "code",
      "source": [
        "data[:,1]=data[:,1].clip(max=q) #обрезали все что больше 65\n",
        "data[:,1].max()"
      ],
      "metadata": {
        "colab": {
          "base_uri": "https://localhost:8080/"
        },
        "id": "RDeiMxAg5Ke5",
        "outputId": "828f8cfc-486a-45c6-d9d1-68b97d2148d2"
      },
      "execution_count": null,
      "outputs": [
        {
          "output_type": "execute_result",
          "data": {
            "text/plain": [
              "65"
            ]
          },
          "metadata": {},
          "execution_count": 20
        }
      ]
    },
    {
      "cell_type": "markdown",
      "metadata": {
        "id": "T1MFHFWv_hpJ"
      },
      "source": [
        "4. Посчитайте, для скольких рецептов указана продолжительность, равная нулю. Замените для таких строк значение в данном столбце на 1."
      ]
    },
    {
      "cell_type": "code",
      "source": [
        "display(data[data[:,1]==0].shape)\n",
        "data[data[:,1]==0,1]=1"
      ],
      "metadata": {
        "colab": {
          "base_uri": "https://localhost:8080/",
          "height": 35
        },
        "id": "HM4K3BDC5toA",
        "outputId": "8103e513-8bb7-4c9b-9389-1d238fcdfb81"
      },
      "execution_count": null,
      "outputs": [
        {
          "output_type": "display_data",
          "data": {
            "text/plain": [
              "(479, 3)"
            ]
          },
          "metadata": {}
        }
      ]
    },
    {
      "cell_type": "markdown",
      "metadata": {
        "id": "AuIRRjOQ_hpJ"
      },
      "source": [
        "5. Посчитайте, сколько уникальных рецептов находится в датасете."
      ]
    },
    {
      "cell_type": "code",
      "source": [
        "len(np.unique(data[:,0]))"
      ],
      "metadata": {
        "colab": {
          "base_uri": "https://localhost:8080/"
        },
        "id": "Vo3sPUf9jAc-",
        "outputId": "58ef5067-8356-4e84-c52f-f18b1ab2b862"
      },
      "execution_count": null,
      "outputs": [
        {
          "output_type": "execute_result",
          "data": {
            "text/plain": [
              "100000"
            ]
          },
          "metadata": {},
          "execution_count": 22
        }
      ]
    },
    {
      "cell_type": "markdown",
      "metadata": {
        "id": "Nh0CxEYq_hpJ"
      },
      "source": [
        "6. Сколько и каких различных значений кол-ва ингредиентов присутвует в рецептах из датасета?"
      ]
    },
    {
      "cell_type": "code",
      "source": [
        "len(np.unique(data[:,2]))"
      ],
      "metadata": {
        "colab": {
          "base_uri": "https://localhost:8080/"
        },
        "id": "uP036EjSJk50",
        "outputId": "3b33e937-3fd0-4b95-e30c-311181c0eccc"
      },
      "execution_count": null,
      "outputs": [
        {
          "output_type": "execute_result",
          "data": {
            "text/plain": [
              "37"
            ]
          },
          "metadata": {},
          "execution_count": 23
        }
      ]
    },
    {
      "cell_type": "code",
      "source": [
        "np.unique(data[:,2])"
      ],
      "metadata": {
        "colab": {
          "base_uri": "https://localhost:8080/"
        },
        "id": "iDxPnW5WJ-2P",
        "outputId": "3b1dadfc-4d8d-4c11-940d-2741b346f38e"
      },
      "execution_count": null,
      "outputs": [
        {
          "output_type": "execute_result",
          "data": {
            "text/plain": [
              "array([ 1,  2,  3,  4,  5,  6,  7,  8,  9, 10, 11, 12, 13, 14, 15, 16, 17,\n",
              "       18, 19, 20, 21, 22, 23, 24, 25, 26, 27, 28, 29, 30, 31, 32, 33, 34,\n",
              "       35, 37, 39], dtype=int32)"
            ]
          },
          "metadata": {},
          "execution_count": 24
        }
      ]
    },
    {
      "cell_type": "markdown",
      "metadata": {
        "id": "2pjHALZ7_hpJ"
      },
      "source": [
        "7. Создайте версию массива, содержащую информацию только о рецептах, состоящих не более чем из 5 ингредиентов."
      ]
    },
    {
      "cell_type": "code",
      "source": [
        "data[data[:,2]<=5]"
      ],
      "metadata": {
        "colab": {
          "base_uri": "https://localhost:8080/"
        },
        "id": "sxHa3GYjjpRu",
        "outputId": "27717967-96b3-49ff-c6fe-0c3c38f84067"
      },
      "execution_count": null,
      "outputs": [
        {
          "output_type": "execute_result",
          "data": {
            "text/plain": [
              "array([[446597,     15,      5],\n",
              "       [204134,      5,      3],\n",
              "       [ 25623,      6,      4],\n",
              "       ...,\n",
              "       [ 52088,     60,      5],\n",
              "       [128811,     15,      4],\n",
              "       [370915,      5,      4]], dtype=int32)"
            ]
          },
          "metadata": {},
          "execution_count": 25
        }
      ]
    },
    {
      "cell_type": "markdown",
      "metadata": {
        "id": "oQVp-tV-_hpK"
      },
      "source": [
        "8. Для каждого рецепта посчитайте, сколько в среднем ингредиентов приходится на одну минуту рецепта. Найдите максимальное значение этой величины для всего датасета"
      ]
    },
    {
      "cell_type": "code",
      "source": [
        "(data[:,2]/data[:,1]).max()"
      ],
      "metadata": {
        "colab": {
          "base_uri": "https://localhost:8080/"
        },
        "id": "6NV-Z3jZj1TE",
        "outputId": "7d49a87a-d78d-4ae0-af3e-845073c83ce7"
      },
      "execution_count": null,
      "outputs": [
        {
          "output_type": "execute_result",
          "data": {
            "text/plain": [
              "24.0"
            ]
          },
          "metadata": {},
          "execution_count": 26
        }
      ]
    },
    {
      "cell_type": "markdown",
      "metadata": {
        "id": "IGwcJOBB_hpK"
      },
      "source": [
        "9. Вычислите среднее количество ингредиентов для топ-100 рецептов с наибольшей продолжительностью"
      ]
    },
    {
      "cell_type": "code",
      "source": [
        "rows = data[:,1].argsort()[-100:] \n",
        "data[rows, 2].mean()"
      ],
      "metadata": {
        "colab": {
          "base_uri": "https://localhost:8080/"
        },
        "id": "a5_e7CbtkGmQ",
        "outputId": "cecb9df4-0265-4fcf-8562-86b3ad3d495e"
      },
      "execution_count": null,
      "outputs": [
        {
          "output_type": "execute_result",
          "data": {
            "text/plain": [
              "9.96"
            ]
          },
          "metadata": {},
          "execution_count": 27
        }
      ]
    },
    {
      "cell_type": "markdown",
      "metadata": {
        "id": "tQk7SuOI_hpK"
      },
      "source": [
        "10. Выберите случайным образом и выведите информацию о 10 различных рецептах"
      ]
    },
    {
      "cell_type": "code",
      "source": [
        "data[np.random.randint(0, len(data), 10)]"
      ],
      "metadata": {
        "colab": {
          "base_uri": "https://localhost:8080/"
        },
        "id": "v-eQRVwikMS-",
        "outputId": "f438f6a6-cdab-48ef-b964-35e706ed99ae"
      },
      "execution_count": null,
      "outputs": [
        {
          "output_type": "execute_result",
          "data": {
            "text/plain": [
              "array([[491276,     40,      5],\n",
              "       [174570,     45,      9],\n",
              "       [ 23791,     40,     12],\n",
              "       [ 94065,     40,      8],\n",
              "       [265000,     65,     14],\n",
              "       [529119,     65,     16],\n",
              "       [203570,     30,     14],\n",
              "       [235367,     55,      8],\n",
              "       [303765,     65,     11],\n",
              "       [ 92494,     32,     12]], dtype=int32)"
            ]
          },
          "metadata": {},
          "execution_count": 28
        }
      ]
    },
    {
      "cell_type": "markdown",
      "metadata": {
        "id": "jbGi7nM5_hpK"
      },
      "source": [
        "11. Выведите процент рецептов, кол-во ингредиентов в которых меньше среднего."
      ]
    },
    {
      "cell_type": "code",
      "source": [
        "len(data[data[:,2]<data[:,2].mean()])/len(data[:,2])"
      ],
      "metadata": {
        "colab": {
          "base_uri": "https://localhost:8080/"
        },
        "id": "6dkYy6hXkSTu",
        "outputId": "07996d34-90c7-4a9a-8557-5cdfafdc45ad"
      },
      "execution_count": null,
      "outputs": [
        {
          "output_type": "execute_result",
          "data": {
            "text/plain": [
              "0.58802"
            ]
          },
          "metadata": {},
          "execution_count": 29
        }
      ]
    },
    {
      "cell_type": "markdown",
      "metadata": {
        "id": "Mvq_3jyD_hpK"
      },
      "source": [
        "12. Назовем \"простым\" такой рецепт, длительность выполнения которого не больше 20 минут и кол-во ингредиентов в котором не больше 5. Создайте версию датасета с дополнительным столбцом, значениями которого являются 1, если рецепт простой, и 0 в противном случае."
      ]
    },
    {
      "cell_type": "code",
      "source": [
        "big_dataset = np.zeros((100000,4), dtype=np.int32)\n",
        "big_dataset[:,:3] = data\n",
        "\n",
        "big_dataset[:,3]=((data[:,1]<=20) & (data[:,2]<=5)).astype(np.int32)\n",
        "big_dataset"
      ],
      "metadata": {
        "colab": {
          "base_uri": "https://localhost:8080/"
        },
        "id": "tTJ2X1fZkZe5",
        "outputId": "ddbb7976-95a5-4233-b054-2cc494d6bdfb"
      },
      "execution_count": null,
      "outputs": [
        {
          "output_type": "execute_result",
          "data": {
            "text/plain": [
              "array([[127244,     60,     16,      0],\n",
              "       [ 23891,     25,      7,      0],\n",
              "       [ 94746,     10,      6,      0],\n",
              "       ...,\n",
              "       [498432,     65,     15,      0],\n",
              "       [370915,      5,      4,      1],\n",
              "       [ 81993,     65,     14,      0]], dtype=int32)"
            ]
          },
          "metadata": {},
          "execution_count": 30
        }
      ]
    },
    {
      "cell_type": "markdown",
      "metadata": {
        "id": "ES5wuDNi_hpK"
      },
      "source": [
        "13. Выведите процент \"простых\" рецептов в датасете"
      ]
    },
    {
      "cell_type": "code",
      "source": [
        "len(big_dataset[big_dataset[:,3]==1])/len(big_dataset[:,3])"
      ],
      "metadata": {
        "id": "HmjIwaBMk2O2",
        "colab": {
          "base_uri": "https://localhost:8080/"
        },
        "outputId": "eaa019b1-c8bc-4ce2-91dd-7c54e12f1045"
      },
      "execution_count": null,
      "outputs": [
        {
          "output_type": "execute_result",
          "data": {
            "text/plain": [
              "0.09552"
            ]
          },
          "metadata": {},
          "execution_count": 31
        }
      ]
    },
    {
      "cell_type": "markdown",
      "metadata": {
        "id": "GjlKhbDh_hpK"
      },
      "source": [
        "14. Разделим рецепты на группы по следующему правилу. Назовем рецепты короткими, если их продолжительность составляет менее 10 минут; стандартными, если их продолжительность составляет более 10, но менее 20 минут; и длинными, если их продолжительность составляет не менее 20 минут. Создайте трехмерный массив, где нулевая ось отвечает за номер группы (короткий, стандартный или длинный рецепт), первая ось - за сам рецепт и вторая ось - за характеристики рецепта. Выберите максимальное количество рецептов из каждой группы таким образом, чтобы было возможно сформировать трехмерный массив. Выведите форму полученного массива."
      ]
    },
    {
      "cell_type": "code",
      "execution_count": null,
      "metadata": {
        "id": "_309-g54_hpL",
        "colab": {
          "base_uri": "https://localhost:8080/",
          "height": 71
        },
        "outputId": "c822d7a3-9fa7-475c-c0b4-ce0efd1faef6"
      },
      "outputs": [
        {
          "output_type": "display_data",
          "data": {
            "text/plain": [
              "100000"
            ]
          },
          "metadata": {}
        },
        {
          "output_type": "display_data",
          "data": {
            "text/plain": [
              "1849"
            ]
          },
          "metadata": {}
        },
        {
          "output_type": "execute_result",
          "data": {
            "text/plain": [
              "(3, 1074, 3)"
            ]
          },
          "metadata": {},
          "execution_count": 38
        }
      ],
      "source": [
        "data_small=data[:,2] < 10\n",
        "data_stand=(data[:, 2] > 10) & (data[:,1] < 20)\n",
        "data_dlin=data[:,2] >= 20\n",
        "display(len(data_small))\n",
        "display(data_stand.sum())\n",
        "data_dlin.sum()\n",
        "lenght=min(data_small.sum(),data_stand.sum(),data_dlin.sum()) #выбираем наим количество строк из одной из трех категорий\n",
        "np.array([data[data_small][0:lenght],data[data_stand][0:lenght],data[data_dlin][0:lenght]]).shape\n"
      ]
    },
    {
      "cell_type": "markdown",
      "source": [
        "# Новый раздел"
      ],
      "metadata": {
        "id": "jJBFAmA7ybNV"
      }
    }
  ],
  "metadata": {
    "kernelspec": {
      "display_name": "Python 3 (ipykernel)",
      "language": "python",
      "name": "python3"
    },
    "language_info": {
      "codemirror_mode": {
        "name": "ipython",
        "version": 3
      },
      "file_extension": ".py",
      "mimetype": "text/x-python",
      "name": "python",
      "nbconvert_exporter": "python",
      "pygments_lexer": "ipython3",
      "version": "3.9.12"
    },
    "colab": {
      "provenance": []
    }
  },
  "nbformat": 4,
  "nbformat_minor": 0
}